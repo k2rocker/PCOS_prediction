{
  "cells": [
    {
      "cell_type": "code",
      "execution_count": null,
      "metadata": {
        "id": "-zLlpeV0TDXu"
      },
      "outputs": [],
      "source": [
        "from sklearn.feature_selection import SelectKBest\n",
        "from sklearn.feature_selection import chi2\n",
        "import seaborn as sns\n",
        "import matplotlib.pyplot as plt\n",
        "import numpy as np"
      ]
    },
    {
      "cell_type": "code",
      "execution_count": null,
      "metadata": {
        "id": "zU5zksfDVXrg"
      },
      "outputs": [],
      "source": [
        "import pandas as pd\n",
        "from sklearn.model_selection import validation_curve\n",
        "from sklearn.model_selection import learning_curve"
      ]
    },
    {
      "cell_type": "code",
      "execution_count": null,
      "metadata": {
        "id": "NAD09AXBVe2U"
      },
      "outputs": [],
      "source": [
        "data=pd.read_csv(\"/content/finaldataset.csv\")"
      ]
    },
    {
      "cell_type": "code",
      "execution_count": null,
      "metadata": {
        "id": "esfEHs5hW-1t"
      },
      "outputs": [],
      "source": [
        "x=data.drop('PCOS',axis=1)\n",
        "y=data.PCOS"
      ]
    },
    {
      "cell_type": "code",
      "execution_count": null,
      "metadata": {
        "id": "ujgogDm0gwbx"
      },
      "outputs": [],
      "source": [
        "from sklearn.model_selection import train_test_split\n",
        "\n",
        "X_train, X_test,y_train, y_test = train_test_split(x,y,random_state=104,test_size=0.25,shuffle=True)"
      ]
    },
    {
      "cell_type": "code",
      "execution_count": null,
      "metadata": {
        "id": "1tGJu6euGBvi",
        "colab": {
          "base_uri": "https://localhost:8080/"
        },
        "outputId": "4b42a428-f8ba-420d-e34c-e5d6f9cf7faf"
      },
      "outputs": [
        {
          "output_type": "stream",
          "name": "stdout",
          "text": [
            "confusion matrix [[250   1]\n",
            " [  2  19]]\n",
            "Accuracy: 0.9889705882352942\n",
            "F1 score: 0.9268292682926829\n",
            "Recall: 0.9047619047619048\n",
            "Precision: 0.95\n"
          ]
        }
      ],
      "source": [
        "#Decision Tree\n",
        "\n",
        "from sklearn.tree import DecisionTreeClassifier\n",
        "from sklearn import metrics\n",
        "dtree = DecisionTreeClassifier(criterion=\"entropy\")\n",
        "dtree.fit(X_train, y_train)\n",
        "y_pred = dtree.predict(X_test)\n",
        "\n",
        "# Model Accuracy\n",
        "from sklearn.metrics import precision_score, \\\n",
        "    recall_score, confusion_matrix, classification_report, \\\n",
        "    accuracy_score, f1_score\n",
        "\n",
        "print('confusion matrix',confusion_matrix(y_test,y_pred))\n",
        "print('Accuracy:', accuracy_score(y_test, y_pred))\n",
        "print('F1 score:', f1_score(y_test,y_pred ))\n",
        "print('Recall:', recall_score(y_test, y_pred))\n",
        "print('Precision:', precision_score(y_test,y_pred))\n",
        "\n"
      ]
    },
    {
      "cell_type": "code",
      "source": [
        "import pickle"
      ],
      "metadata": {
        "id": "fBMcKE529S0f"
      },
      "execution_count": null,
      "outputs": []
    },
    {
      "cell_type": "code",
      "source": [
        "pickle.dump(dtree,open('dtreepcos.pkl','wb'))"
      ],
      "metadata": {
        "id": "jT5ZjMt_9yDX"
      },
      "execution_count": 13,
      "outputs": []
    }
  ],
  "metadata": {
    "colab": {
      "provenance": []
    },
    "kernelspec": {
      "display_name": "Python 3",
      "name": "python3"
    },
    "language_info": {
      "name": "python"
    }
  },
  "nbformat": 4,
  "nbformat_minor": 0
}